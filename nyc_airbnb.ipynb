version https://git-lfs.github.com/spec/v1
oid sha256:00690b28800cdcd9ea31daf58ebd7d9b87efb3e7552587ae6133807b928047b2
size 614405
