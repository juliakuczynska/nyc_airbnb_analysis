version https://git-lfs.github.com/spec/v1
oid sha256:a2ea60b7a2f0d11f078cb9c113599158ec63fcc320c1e460373b5ff86a9c3ccf
size 427815
