version https://git-lfs.github.com/spec/v1
oid sha256:1e439eb88041ade0f556070a17be78b4487057f8bb168070947a64e567eb7e6a
size 426490
