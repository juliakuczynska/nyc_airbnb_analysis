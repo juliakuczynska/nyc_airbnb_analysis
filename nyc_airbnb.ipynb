{
 "cells": [
  {
   "cell_type": "markdown",
   "metadata": {
    "_cell_guid": "b1076dfc-b9ad-4769-8c92-a6c4dae69d19",
    "_uuid": "8f2839f25d086af736a60e9eeb907d3b93b6e0e5"
   },
   "source": [
    "# **Analysing NYC Airbnb Data**\n",
    "**Airbnb.com** has changed the game when it comes to short-term rentals, making it easier than ever to find a cozy place to stay. With millions of users worldwide, it offers diverse properties, from entire homes to shared rooms, across different price ranges and locations.\n",
    "\n",
    "This project dives into Airbnb data for **New York City**.\n",
    "From historic brownstones to luxurious Manhattan penthouses, the Big Apple's vibrant rental market offers endless possibilities, making it one of the platform's most dynamic markets.\n",
    "\n",
    "Let’s dive into the data and see what stories it reveals about one of the most exciting places in the world!"
   ]
  },
  {
   "cell_type": "markdown",
   "metadata": {},
   "source": [
    "# **The New York Airbnb Open Data 2024**\n",
    "\n",
    "Welcome to the Data Story!\n",
    "\n",
    "Our journey through NYC's Airbnb landscape is powered by the New York Airbnb Open Data 2024 dataset from Kaggle. This dataset offers an overview of the market using 22 key variables. Let's look at our data."
   ]
  },
  {
   "cell_type": "markdown",
   "metadata": {},
   "source": [
    "## **Importing libraries and loading the data**"
   ]
  },
  {
   "cell_type": "code",
   "execution_count": null,
   "metadata": {
    "execution": {
     "iopub.execute_input": "2025-03-03T00:00:28.167127Z",
     "iopub.status.busy": "2025-03-03T00:00:28.166738Z",
     "iopub.status.idle": "2025-03-03T00:00:28.172985Z",
     "shell.execute_reply": "2025-03-03T00:00:28.171172Z",
     "shell.execute_reply.started": "2025-03-03T00:00:28.167089Z"
    },
    "trusted": true
   },
   "outputs": [],
   "source": [
    "import pandas as pd\n",
    "import seaborn as sns\n",
    "import matplotlib.pyplot as plt\n",
    "from matplotlib import style \n",
    "import numpy as np\n",
    "import folium\n",
    "from folium.plugins import MarkerCluster\n",
    "import folium.features"
   ]
  },
  {
   "cell_type": "code",
   "execution_count": null,
   "metadata": {
    "execution": {
     "iopub.execute_input": "2025-03-03T00:00:28.175581Z",
     "iopub.status.busy": "2025-03-03T00:00:28.175143Z",
     "iopub.status.idle": "2025-03-03T00:00:28.377623Z",
     "shell.execute_reply": "2025-03-03T00:00:28.376450Z",
     "shell.execute_reply.started": "2025-03-03T00:00:28.175545Z"
    },
    "trusted": true
   },
   "outputs": [],
   "source": [
    "df_nyc_2024 = pd.read_csv('new_york_listings_2024.csv')\n",
    "df_nyc_2024.head()"
   ]
  },
  {
   "cell_type": "code",
   "execution_count": null,
   "metadata": {
    "execution": {
     "iopub.execute_input": "2025-03-03T00:00:28.379985Z",
     "iopub.status.busy": "2025-03-03T00:00:28.379649Z",
     "iopub.status.idle": "2025-03-03T00:00:28.405791Z",
     "shell.execute_reply": "2025-03-03T00:00:28.404417Z",
     "shell.execute_reply.started": "2025-03-03T00:00:28.379955Z"
    },
    "trusted": true
   },
   "outputs": [],
   "source": [
    "df_nyc_2024.info()"
   ]
  },
  {
   "cell_type": "code",
   "execution_count": null,
   "metadata": {
    "execution": {
     "iopub.execute_input": "2025-03-03T00:00:28.407583Z",
     "iopub.status.busy": "2025-03-03T00:00:28.407222Z",
     "iopub.status.idle": "2025-03-03T00:00:28.450599Z",
     "shell.execute_reply": "2025-03-03T00:00:28.449581Z",
     "shell.execute_reply.started": "2025-03-03T00:00:28.407554Z"
    },
    "trusted": true
   },
   "outputs": [],
   "source": [
    "df_nyc_2024.duplicated().sum()"
   ]
  },
  {
   "cell_type": "code",
   "execution_count": null,
   "metadata": {
    "execution": {
     "iopub.execute_input": "2025-03-03T00:00:28.452102Z",
     "iopub.status.busy": "2025-03-03T00:00:28.451648Z",
     "iopub.status.idle": "2025-03-03T00:00:28.475408Z",
     "shell.execute_reply": "2025-03-03T00:00:28.474150Z",
     "shell.execute_reply.started": "2025-03-03T00:00:28.452063Z"
    },
    "trusted": true
   },
   "outputs": [],
   "source": [
    "df_nyc_2024.isnull().sum()"
   ]
  },
  {
   "cell_type": "markdown",
   "metadata": {},
   "source": [
    "We can see that this dataset is free of null values and duplicates, allowing for a more straightforward analysis.\n"
   ]
  },
  {
   "cell_type": "markdown",
   "metadata": {},
   "source": [
    "To gain deeper insights, let’s explore some key variables more thoroughly by examining their statistical summaries."
   ]
  },
  {
   "cell_type": "code",
   "execution_count": null,
   "metadata": {
    "execution": {
     "iopub.execute_input": "2025-03-03T00:00:28.477464Z",
     "iopub.status.busy": "2025-03-03T00:00:28.476990Z",
     "iopub.status.idle": "2025-03-03T00:00:28.541625Z",
     "shell.execute_reply": "2025-03-03T00:00:28.540274Z",
     "shell.execute_reply.started": "2025-03-03T00:00:28.477405Z"
    },
    "trusted": true
   },
   "outputs": [],
   "source": [
    "df_nyc_2024.describe()"
   ]
  },
  {
   "cell_type": "code",
   "execution_count": null,
   "metadata": {},
   "outputs": [],
   "source": [
    "numeric_columns = df_nyc_2024.select_dtypes(include=['number'])\n",
    "\n",
    "plt.figure(figsize=(10, 6))\n",
    "plt.style.use('seaborn-v0_8-darkgrid') \n",
    "\n",
    "sns.heatmap(numeric_columns.corr(), annot=True, cmap='coolwarm', linewidth=2)\n",
    "plt.title('Correlation Heatmap', fontsize=16, pad=20)\n",
    "plt.show()\n"
   ]
  },
  {
   "cell_type": "markdown",
   "metadata": {},
   "source": [
    "# **Unmasking the Outliers**\n",
    "Our initial dive into the data reveals some eyebrow-raising values that require attention.\n",
    "\n",
    "Take the **minimum_nights** variable - its maximum value of 1250 nights (that's about 3.5 years!) stands out as highly improbable for what's meant to be a short-term rental platform.\n",
    "\n",
    "Similarly, when looking at **price**, we encounter listings allegedly charging $100.000 per night. Even in a luxury market like NYC, this raises red flags. The min value of $10 is also concerning. These extreme values suggest we'll need some careful data cleaning to ensure our analysis reflects the real market dynamics."
   ]
  },
  {
   "cell_type": "code",
   "execution_count": null,
   "metadata": {},
   "outputs": [],
   "source": [
    "df_nyc_2024['price'].describe()"
   ]
  },
  {
   "cell_type": "code",
   "execution_count": null,
   "metadata": {},
   "outputs": [],
   "source": [
    "print(f\"The most common price is: {df_nyc_2024.price.mode()[0]} USD\")"
   ]
  },
  {
   "cell_type": "code",
   "execution_count": null,
   "metadata": {
    "execution": {
     "iopub.execute_input": "2025-03-03T00:00:28.545413Z",
     "iopub.status.busy": "2025-03-03T00:00:28.544981Z",
     "iopub.status.idle": "2025-03-03T00:00:28.717297Z",
     "shell.execute_reply": "2025-03-03T00:00:28.715960Z",
     "shell.execute_reply.started": "2025-03-03T00:00:28.545371Z"
    },
    "trusted": true
   },
   "outputs": [],
   "source": [
    "plt.figure(figsize=(13, 3))\n",
    "plt.style.use('seaborn-v0_8-darkgrid') \n",
    "\n",
    "plt.boxplot(df_nyc_2024['price'],\n",
    "            vert=False,\n",
    "            flierprops=dict(marker='o', color='red', alpha=0.3, markersize=10))\n",
    "plt.title('Boxplot of Airbnb Prices in NYC', fontsize=16)\n",
    "plt.ylabel('Price (USD)', fontsize=14)\n",
    "plt.grid(axis='y')\n",
    "\n",
    "plt.show()"
   ]
  },
  {
   "cell_type": "code",
   "execution_count": null,
   "metadata": {},
   "outputs": [],
   "source": [
    "df_nyc_2024[df_nyc_2024['price']==100000]"
   ]
  },
  {
   "cell_type": "markdown",
   "metadata": {},
   "source": [
    "There are two listings priced at 100,000 USD. Based on their location, they appear to be one-bedroom rental units in Brooklyn, offered by the same host and likely in the same building. Given this, we can reasonably consider these listings as outliers."
   ]
  },
  {
   "cell_type": "markdown",
   "metadata": {},
   "source": [
    "What about the other side of the spectrum - could an Airbnb in NYC really cost just $10?"
   ]
  },
  {
   "cell_type": "code",
   "execution_count": null,
   "metadata": {},
   "outputs": [],
   "source": [
    "df_nyc_2024[df_nyc_2024['price']==10].shape[0]"
   ]
  },
  {
   "cell_type": "code",
   "execution_count": null,
   "metadata": {},
   "outputs": [],
   "source": [
    "df_nyc_2024.sort_values('price').head(10)"
   ]
  },
  {
   "cell_type": "markdown",
   "metadata": {},
   "source": [
    "There are 9 listings priced at $10 a night, and some are categorized as 'Entire home/apt.' An entire apartment in Manhattan for just $10 a night? That seems implausible. Even if we consider shared rooms, it's still difficult to believe that any accommodation in NYC would be priced so low.\n",
    "\n",
    "For now, let's just get rid of the obvious outliers of $10 and $100000."
   ]
  },
  {
   "cell_type": "code",
   "execution_count": null,
   "metadata": {
    "execution": {
     "iopub.execute_input": "2025-03-03T00:00:28.719773Z",
     "iopub.status.busy": "2025-03-03T00:00:28.719333Z",
     "iopub.status.idle": "2025-03-03T00:00:28.730652Z",
     "shell.execute_reply": "2025-03-03T00:00:28.729425Z",
     "shell.execute_reply.started": "2025-03-03T00:00:28.719737Z"
    },
    "trusted": true
   },
   "outputs": [],
   "source": [
    "df_nyc_2024 = df_nyc_2024[(df_nyc_2024['price'] < 20000) & (df_nyc_2024['price'] > 10)]"
   ]
  },
  {
   "cell_type": "markdown",
   "metadata": {},
   "source": [
    "Now, let's take a closer look at the minimum nights criteria."
   ]
  },
  {
   "cell_type": "code",
   "execution_count": null,
   "metadata": {
    "execution": {
     "iopub.execute_input": "2025-03-03T00:00:28.732653Z",
     "iopub.status.busy": "2025-03-03T00:00:28.732200Z",
     "iopub.status.idle": "2025-03-03T00:00:28.912724Z",
     "shell.execute_reply": "2025-03-03T00:00:28.911525Z",
     "shell.execute_reply.started": "2025-03-03T00:00:28.732606Z"
    },
    "trusted": true
   },
   "outputs": [],
   "source": [
    "plt.figure(figsize=(13, 3))\n",
    "plt.style.use('seaborn-v0_8-darkgrid') \n",
    "\n",
    "plt.boxplot(df_nyc_2024['minimum_nights'],\n",
    "            vert=False,\n",
    "            flierprops=dict(marker='o', color='red', alpha=0.3, markersize=10))\n",
    "plt.title('Boxplot of Minimum Nights in Airbnb', fontsize=16)\n",
    "plt.ylabel('Minimum nights', fontsize=14)\n",
    "plt.grid(axis='y')\n",
    "\n",
    "plt.show()"
   ]
  },
  {
   "cell_type": "markdown",
   "metadata": {},
   "source": [
    "When we think about Airbnbs, we usually picture short stays - just a night or two. However, we noticed that many listings have unusually high minimum night requirements.\n",
    "This raises an important question: **why are some hosts asking for longer stays?**"
   ]
  },
  {
   "cell_type": "code",
   "execution_count": null,
   "metadata": {
    "execution": {
     "iopub.execute_input": "2025-03-03T00:00:28.914677Z",
     "iopub.status.busy": "2025-03-03T00:00:28.914171Z",
     "iopub.status.idle": "2025-03-03T00:00:28.930566Z",
     "shell.execute_reply": "2025-03-03T00:00:28.929081Z",
     "shell.execute_reply.started": "2025-03-03T00:00:28.914636Z"
    },
    "trusted": true
   },
   "outputs": [],
   "source": [
    "df_nyc_2024[df_nyc_2024['minimum_nights'] <= 90].value_counts('minimum_nights').sort_values(ascending=False)"
   ]
  },
  {
   "cell_type": "markdown",
   "metadata": {},
   "source": [
    "Our data reveals an interesting pattern: 30 days stands out as the most common minimum stay requirement. This isn't just a coincidence - **it's a direct reflection of New York City's Local Law 18**, implemented in 2023. This regulation transformed the city's short-term rental landscape by requiring hosts to:\n",
    "- Register with the city for stays under 30 days\n",
    "- Be physically present in the property during guest stays under 30 days\n",
    "- Provide guests with full access to the property\n",
    "\n",
    "Rather than navigating these requirements, many hosts have opted to set 30-day minimums, effectively positioning their listings in the medium-term rental market. This shift in hosting strategy demonstrates how local regulations can fundamentally reshape rental patterns across an entire city."
   ]
  },
  {
   "cell_type": "markdown",
   "metadata": {},
   "source": [
    "Let's explore what types of properties appear on each side of this 30-day threshold."
   ]
  },
  {
   "cell_type": "code",
   "execution_count": null,
   "metadata": {
    "execution": {
     "iopub.execute_input": "2025-03-03T00:00:28.932666Z",
     "iopub.status.busy": "2025-03-03T00:00:28.932140Z",
     "iopub.status.idle": "2025-03-03T00:00:28.962611Z",
     "shell.execute_reply": "2025-03-03T00:00:28.961175Z",
     "shell.execute_reply.started": "2025-03-03T00:00:28.932497Z"
    },
    "trusted": true
   },
   "outputs": [],
   "source": [
    "properties_over_30_nights = df_nyc_2024[df_nyc_2024['minimum_nights'] >= 30]\n",
    "print(\"Number of properties requiring a minimum stay of 30+ nights by room type:\")\n",
    "properties_over_30_nights['room_type'].value_counts()"
   ]
  },
  {
   "cell_type": "code",
   "execution_count": null,
   "metadata": {
    "execution": {
     "iopub.execute_input": "2025-03-03T00:00:28.964508Z",
     "iopub.status.busy": "2025-03-03T00:00:28.964053Z",
     "iopub.status.idle": "2025-03-03T00:00:28.979087Z",
     "shell.execute_reply": "2025-03-03T00:00:28.977362Z",
     "shell.execute_reply.started": "2025-03-03T00:00:28.964463Z"
    },
    "trusted": true
   },
   "outputs": [],
   "source": [
    "properties_under_30_nights = df_nyc_2024[df_nyc_2024['minimum_nights'] < 30]\n",
    "print(\"Number of properties requiring a minimum stay of under 30 nights by room type:\")\n",
    "properties_under_30_nights['room_type'].value_counts()"
   ]
  },
  {
   "cell_type": "markdown",
   "metadata": {},
   "source": [
    "It makes sense that longer stays are typically for entire homes, which people might rent for a month or more. These stays usually cater to those seeking temporary housing, such as remote workers, students, or families relocating. Still, Airbnb isn’t usually the first place that comes to mind when looking for long-term accommodation."
   ]
  },
  {
   "cell_type": "markdown",
   "metadata": {},
   "source": [
    "Let's see what percentage of the data consists of listings where Airbnb states that the minimum nights required is over 60."
   ]
  },
  {
   "cell_type": "code",
   "execution_count": null,
   "metadata": {
    "execution": {
     "iopub.execute_input": "2025-03-03T00:00:28.981157Z",
     "iopub.status.busy": "2025-03-03T00:00:28.980696Z",
     "iopub.status.idle": "2025-03-03T00:00:28.998892Z",
     "shell.execute_reply": "2025-03-03T00:00:28.997529Z",
     "shell.execute_reply.started": "2025-03-03T00:00:28.981108Z"
    },
    "trusted": true
   },
   "outputs": [],
   "source": [
    "over_60_nights = len(df_nyc_2024[df_nyc_2024['minimum_nights'] > 60])\n",
    "over_60_nights_percentage = (df_nyc_2024[df_nyc_2024['minimum_nights'] > 60].shape[0] / df_nyc_2024.shape[0]) * 100\n",
    "\n",
    "print(f\"Listings with minimum nights over 60: {over_60_nights}\")\n",
    "print(f\"Percentage of listings with minimum nights over 60: {over_60_nights_percentage:.4f}%\")"
   ]
  },
  {
   "cell_type": "markdown",
   "metadata": {},
   "source": [
    "Listings with a minimum night requirement exceeding 60 account for only about 1.5% of the data. In this analysis, we will remove these records to ensure a cleaner dataset, free from obvious outliers."
   ]
  },
  {
   "cell_type": "code",
   "execution_count": null,
   "metadata": {
    "execution": {
     "iopub.execute_input": "2025-03-03T00:00:29.000535Z",
     "iopub.status.busy": "2025-03-03T00:00:29.000060Z",
     "iopub.status.idle": "2025-03-03T00:00:29.023683Z",
     "shell.execute_reply": "2025-03-03T00:00:29.022250Z",
     "shell.execute_reply.started": "2025-03-03T00:00:29.000487Z"
    },
    "trusted": true
   },
   "outputs": [],
   "source": [
    "df_nyc_filtered = df_nyc_2024[df_nyc_2024['minimum_nights'] <= 60]"
   ]
  },
  {
   "cell_type": "markdown",
   "metadata": {},
   "source": [
    "# Borough Breakdown: Quantifying Airbnb Listings Across NYC\n",
    "Now let's take a look at the spread of Airbnb listings across New York City's five iconic boroughs!\n",
    "\n",
    "By plotting the number of listings in each borough, we get a clear picture of where Airbnb activity is most concentrated. This view sheds light on potential hotspots for visitors and hints at where hosts may face the most competition."
   ]
  },
  {
   "cell_type": "code",
   "execution_count": null,
   "metadata": {
    "execution": {
     "iopub.execute_input": "2025-03-03T00:00:29.025217Z",
     "iopub.status.busy": "2025-03-03T00:00:29.024778Z",
     "iopub.status.idle": "2025-03-03T00:00:29.265302Z",
     "shell.execute_reply": "2025-03-03T00:00:29.264141Z",
     "shell.execute_reply.started": "2025-03-03T00:00:29.025174Z"
    },
    "trusted": true
   },
   "outputs": [],
   "source": [
    "neighborhood_counts = df_nyc_filtered['neighbourhood_group'].value_counts()\n",
    "\n",
    "plt.figure(figsize=(10, 6))\n",
    "plt.style.use('seaborn-v0_8-darkgrid') \n",
    "\n",
    "neighborhood_counts.plot(kind='bar', color='indianred')\n",
    "plt.title('Boroughs by Number of Listings', fontsize=16, pad=20)\n",
    "plt.xlabel('Borough', fontsize=14)\n",
    "plt.ylabel('Number of Listings', fontsize=14, labelpad=20)\n",
    "plt.xticks(rotation=45)\n",
    "plt.show()"
   ]
  },
  {
   "cell_type": "markdown",
   "metadata": {},
   "source": [
    "As we can see (and as we probably expected), Manhattan stands out as the borough with the most listings, boasting nearly 8.000 available properties.\n",
    "\n",
    "But is the pricing landscape just as predictable? Let’s explore the average prices across the boroughs to find out!"
   ]
  },
  {
   "cell_type": "code",
   "execution_count": null,
   "metadata": {
    "execution": {
     "iopub.execute_input": "2025-03-03T00:00:29.267020Z",
     "iopub.status.busy": "2025-03-03T00:00:29.266673Z",
     "iopub.status.idle": "2025-03-03T00:00:29.486953Z",
     "shell.execute_reply": "2025-03-03T00:00:29.485836Z",
     "shell.execute_reply.started": "2025-03-03T00:00:29.266990Z"
    },
    "trusted": true
   },
   "outputs": [],
   "source": [
    "average_price_per_neighborhood = df_nyc_filtered.groupby('neighbourhood_group')['price'].mean().sort_values(ascending=False)\n",
    "\n",
    "plt.figure(figsize=(10, 6))\n",
    "plt.style.use('seaborn-v0_8-darkgrid') \n",
    "\n",
    "average_price_per_neighborhood.plot(kind='bar', color='darksalmon')\n",
    "plt.title('Boroughs by Average Price', fontsize=16, pad=20)\n",
    "plt.xlabel('Borough', fontsize=14)\n",
    "plt.ylabel('Average Price (USD)', fontsize=14, labelpad=20)\n",
    "plt.xticks(rotation=45)\n",
    "plt.ylim((0,300))\n",
    "plt.show()"
   ]
  },
  {
   "cell_type": "code",
   "execution_count": null,
   "metadata": {
    "execution": {
     "iopub.execute_input": "2025-03-03T00:00:29.488482Z",
     "iopub.status.busy": "2025-03-03T00:00:29.488111Z",
     "iopub.status.idle": "2025-03-03T00:00:29.502056Z",
     "shell.execute_reply": "2025-03-03T00:00:29.500820Z",
     "shell.execute_reply.started": "2025-03-03T00:00:29.488414Z"
    },
    "trusted": true
   },
   "outputs": [],
   "source": [
    "df_nyc_filtered[df_nyc_filtered['neighbourhood_group'] == 'Manhattan']['price'].mean()"
   ]
  },
  {
   "cell_type": "markdown",
   "metadata": {},
   "source": [
    "Of course, Manhattan takes the lead once again, with an average price of ~$228 per night."
   ]
  },
  {
   "cell_type": "markdown",
   "metadata": {},
   "source": [
    "We've previously discussed high prices, and it's clear that there are quite a few properties priced in the thousands! Let's take a closer look at what these properties are."
   ]
  },
  {
   "cell_type": "code",
   "execution_count": null,
   "metadata": {},
   "outputs": [],
   "source": [
    "most_expensive_properties = df_nyc_filtered.nlargest(10, 'price')\n",
    "most_expensive_properties[['name', 'neighbourhood_group', 'price', 'room_type', 'number_of_reviews','availability_365', 'bedrooms', 'host_name', 'rating']]\n"
   ]
  },
  {
   "cell_type": "markdown",
   "metadata": {},
   "source": [
    "- Right off the bat, we can see there's a frequent host - The Gregory Hotel, which seems to be a luxury hotel offering expensive stays. It appears to have quite average ratings, 3.33 and 3.40, and one of its listings in the top 10 doesn't even have a rating at all.\n",
    "- When talking about ratings, we can see that the top 10 most expensive properties are not very popular, as it would seem. The number of reviews they have is quite low, ranging from 1 to 29. The most reviewed one is a place in Brooklyn, which costs $7.500 a night — it has 173 reviews, a significant boost compared to the others.\n",
    "- There are some places that are mistyped. For example, the loft in Manhattan, which supposedly has 4 bedrooms, is listed as a \"shared room.\" This may suggest that there are many other places in our database that could be mistyped as well."
   ]
  },
  {
   "cell_type": "markdown",
   "metadata": {},
   "source": [
    "# Interactive Map\n",
    "Let’s take a closer look at how Airbnb listings are distributed across New York City.\n",
    "\n",
    "The interactive map below highlights properties throughout the city, giving you a clear view of where listings are concentrated. This visualization provides valuable insights into popular areas with high listing density as well as neighborhoods with fewer options.\n",
    "\n",
    "Additionally, I have included a price legend to help you easily identify price ranges across the city.\n",
    "\n",
    "To maintain optimal performance, I used markers for a faster and smoother map experience."
   ]
  },
  {
   "cell_type": "code",
   "execution_count": null,
   "metadata": {},
   "outputs": [],
   "source": [
    "map_nyc = folium.Map(\n",
    "    location=[40.730610, -73.935242], \n",
    "    zoom_start=11\n",
    ")"
   ]
  },
  {
   "cell_type": "code",
   "execution_count": null,
   "metadata": {},
   "outputs": [],
   "source": [
    "marker_cluster = MarkerCluster().add_to(map_nyc)"
   ]
  },
  {
   "cell_type": "code",
   "execution_count": null,
   "metadata": {},
   "outputs": [],
   "source": [
    "def get_color(price):\n",
    "    if float(price) <= 100:\n",
    "        return 'green'\n",
    "    elif float(price) <= 200:\n",
    "        return 'blue'\n",
    "    elif float(price) <= 300:\n",
    "        return 'purple'\n",
    "    else:\n",
    "        return 'red'"
   ]
  },
  {
   "cell_type": "code",
   "execution_count": null,
   "metadata": {},
   "outputs": [],
   "source": [
    "for _, row in df_nyc_filtered.iterrows():\n",
    "    try:\n",
    "        lat = float(row['latitude'])\n",
    "        lng = float(row['longitude'])\n",
    "        price = float(row['price'])\n",
    "        \n",
    "        price_formatted = f\"${price:,.2f}\"\n",
    "        \n",
    "        name = str(row.get('name', 'Unnamed'))\n",
    "        minimum_nights = str(row.get('minimum_nights', 'N/A'))\n",
    "        neighbourhood_group = str(row.get('neighbourhood_group', 'N/A'))\n",
    "        neighbourhood = str(row.get('neighbourhood', 'N/A'))\n",
    "        \n",
    "        color = get_color(price)\n",
    "        \n",
    "    except Exception as e:\n",
    "        continue\n",
    "        \n",
    "    popup_content = f\"\"\"\n",
    "    <div style=\"font-family: 'Helvetica', sans-serif; padding: 10px; min-width: 200px;\">\n",
    "        <h4 style=\"margin: 0 0 10px 0; color: #333;\">{name}</h4>\n",
    "        <p style=\"margin: 5px 0; font-size: 14px;\"><strong>Price:</strong> {price_formatted} per night</p>\n",
    "        <p style=\"margin: 5px 0; font-size: 14px;\"><strong>Min Stay:</strong> {minimum_nights} night(s)</p>\n",
    "        <p style=\"margin: 5px 0; font-size: 14px;\"><strong>Area:</strong> {neighbourhood_group} - {neighbourhood}</p>\n",
    "    </div>\n",
    "    \"\"\"    \n",
    "    \n",
    "    folium.Marker(\n",
    "        location=(lat, lng),\n",
    "        popup=folium.Popup(popup_content, max_width=300),\n",
    "        tooltip=f\"{name} - {price_formatted}\",\n",
    "        icon=folium.Icon(color=color, prefix='fa', icon='home')\n",
    "    ).add_to(marker_cluster)"
   ]
  },
  {
   "cell_type": "code",
   "execution_count": null,
   "metadata": {},
   "outputs": [],
   "source": [
    "legend_html = '''\n",
    "<div style=\"\n",
    "    position: fixed; \n",
    "    bottom: 20px; \n",
    "    right: 20px; \n",
    "    z-index: 1000; \n",
    "    background-color: white; \n",
    "    padding: 15px; \n",
    "    border-radius: 8px; \n",
    "    box-shadow: 0 2px 10px rgba(0,0,0,0.15);\n",
    "    font-family: 'Helvetica', Arial, sans-serif;\n",
    "    font-size: 12px;\n",
    "    line-height: 1.4;\n",
    "    width: 160px;\n",
    "\">\n",
    "    <div style=\"font-weight: bold; margin-bottom: 8px; font-size: 14px; color: #333; border-bottom: 1px solid #eee; padding-bottom: 5px;\">\n",
    "        NYC Airbnb Prices\n",
    "    </div>\n",
    "    <div style=\"display: flex; align-items: center; margin: 6px 0;\">\n",
    "        <span style=\"background: green; width: 12px; height: 12px; display: inline-block; border-radius: 50%; margin-right: 8px;\"></span>\n",
    "        <span>Under $100</span>\n",
    "    </div>\n",
    "    <div style=\"display: flex; align-items: center; margin: 6px 0;\">\n",
    "        <span style=\"background: blue; width: 12px; height: 12px; display: inline-block; border-radius: 50%; margin-right: 8px;\"></span>\n",
    "        <span>$100 - $200</span>\n",
    "    </div>\n",
    "    <div style=\"display: flex; align-items: center; margin: 6px 0;\">\n",
    "        <span style=\"background: purple; width: 12px; height: 12px; display: inline-block; border-radius: 50%; margin-right: 8px;\"></span>\n",
    "        <span>$200 - $300</span>\n",
    "    </div>\n",
    "    <div style=\"display: flex; align-items: center; margin: 6px 0;\">\n",
    "        <span style=\"background: red; width: 12px; height: 12px; display: inline-block; border-radius: 50%; margin-right: 8px;\"></span>\n",
    "        <span>Over $300</span>\n",
    "    </div>\n",
    "</div>\n",
    "'''"
   ]
  },
  {
   "cell_type": "code",
   "execution_count": null,
   "metadata": {},
   "outputs": [],
   "source": [
    "legend = folium.Element(legend_html)\n",
    "map_nyc.get_root().html.add_child(legend)\n",
    "\n",
    "map_nyc"
   ]
  },
  {
   "cell_type": "markdown",
   "metadata": {},
   "source": [
    "# Ratings: Which Boroughs Are Guests Happiest With?\n",
    "Price and location are important, but what about guest satisfaction? Let’s analyze the rating column to see which boroughs have the highest and lowest average ratings."
   ]
  },
  {
   "cell_type": "code",
   "execution_count": null,
   "metadata": {},
   "outputs": [],
   "source": [
    "df_nyc_filtered['rating'].unique()"
   ]
  },
  {
   "cell_type": "markdown",
   "metadata": {},
   "source": [
    "We can observe a few things in our data:\n",
    "\n",
    "- Trailing spaces – All values have an extra space at the end.\n",
    "- Data type – The column is stored as object, meaning it's not properly formatted as numeric.\n",
    "- Non-numeric values – There are entries like 'No rating' and 'New ', which may need special handling.\n",
    "\n",
    "Let's clean up our data to continue with our ratings analysis."
   ]
  },
  {
   "cell_type": "code",
   "execution_count": null,
   "metadata": {},
   "outputs": [],
   "source": [
    "df_nyc_filtered.loc[:,'rating'] = df_nyc_filtered['rating'].str.strip()\n",
    "df_nyc_filtered_ratings = df_nyc_filtered[df_nyc_filtered['rating'].isin(['No rating', 'New']) == False]\n",
    "df_nyc_filtered_ratings.loc[:,'rating'] = df_nyc_filtered_ratings['rating'].astype(float)"
   ]
  },
  {
   "cell_type": "code",
   "execution_count": null,
   "metadata": {},
   "outputs": [],
   "source": [
    "removed_count = len(df_nyc_filtered) - len(df_nyc_filtered_ratings)\n",
    "print(f\"Removed {removed_count} listings ({(removed_count / len(df_nyc_filtered)) * 100}%) due to missing or new ratings.\")"
   ]
  },
  {
   "cell_type": "markdown",
   "metadata": {},
   "source": [
    "Let's take a closer look at the ratings for each borough. We’ll calculate the mean, median, and count of ratings. This will help us identify not only the boroughs with the highest average ratings, but also the areas with the most feedback."
   ]
  },
  {
   "cell_type": "code",
   "execution_count": null,
   "metadata": {},
   "outputs": [],
   "source": [
    "df_nyc_filtered_ratings.groupby('neighbourhood_group')['rating'].agg(['mean', 'median', 'count']).sort_values(by='mean', ascending=False)"
   ]
  },
  {
   "cell_type": "markdown",
   "metadata": {},
   "source": [
    "The average ratings across the boroughs show slight differences, with Staten Island having the highest average rating at 4.775, followed by Brooklyn at 4.773.\n",
    "\n",
    "While Staten Island's higher rating may appear notable, the small number of reviews could mean it doesn't fully represent the overall sentiment of the population. Larger boroughs, like Brooklyn and Manhattan, offer a more comprehensive view due to their higher volume of reviews.\n"
   ]
  }
 ],
 "metadata": {
  "kaggle": {
   "accelerator": "none",
   "dataSources": [
    {
     "datasetId": 4313391,
     "sourceId": 7415591,
     "sourceType": "datasetVersion"
    }
   ],
   "dockerImageVersionId": 30918,
   "isGpuEnabled": false,
   "isInternetEnabled": false,
   "language": "python",
   "sourceType": "notebook"
  },
  "kernelspec": {
   "display_name": "Python 3",
   "language": "python",
   "name": "python3"
  },
  "language_info": {
   "codemirror_mode": {
    "name": "ipython",
    "version": 3
   },
   "file_extension": ".py",
   "mimetype": "text/x-python",
   "name": "python",
   "nbconvert_exporter": "python",
   "pygments_lexer": "ipython3",
   "version": "3.11.1"
  }
 },
 "nbformat": 4,
 "nbformat_minor": 4
}
